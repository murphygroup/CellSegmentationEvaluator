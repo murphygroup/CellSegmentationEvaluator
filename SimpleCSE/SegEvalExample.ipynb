{
 "cells": [
  {
   "cell_type": "markdown",
   "metadata": {},
   "source": [
    "## EXAMPLE MAIN PROGRAM TO CALCULATE SEGMENTATION EVALUATION STATISTICS FOR A SINGLE IMAGE AND MASK\n",
    "## Authors: Haoran Chen and Robert F. Murphy and Ted Zhang\n",
    "## this assumes that the required python packages have already been installed using\n",
    "### pip install -r requirements.txt"
   ]
  },
  {
   "cell_type": "code",
   "execution_count": 1,
   "metadata": {},
   "outputs": [],
   "source": [
    "from pathlib import Path\n",
    "import pickle\n",
    "from read_and_eval_seg import read_and_eval_seg"
   ]
  },
  {
   "cell_type": "code",
   "execution_count": 2,
   "metadata": {},
   "outputs": [
    {
     "name": "stdout",
     "output_type": "stream",
     "text": [
      "File missing physical pixel sizes...\n",
      "Enter size of x pixels: 0.345\n",
      "Enter size of y pixels: 0.345\n",
      "Calculating evaluation metrics v1.5 for 2D_CODEX.ome.tiff\n",
      "1704 cells repaired out of 2657\n",
      "{'Matched Cell': {'NumberOfCellsPer100SquareMicrons': 1.6493948150049207, 'FractionOfForegroundOccupiedByCells': 0.9160630053908356, '1-FractionOfBackgroundOccupiedByCells': 1, 'FractionOfCellMaskInForeground': 1.0, '1/(ln(StandardDeviationOfCellSize)+1)': 0.16336128718458506, 'FractionOfMatchedCellsAndNuclei': 1.0, '1/(AvgCVForegroundOutsideCells+1)': 0.10351006628637523, 'FractionOfFirstPCForegroundOutsideCells': 0.6784067039776349}, 'Nucleus (including nuclear membrane)': {'1/(AvgOfWeightedAvgCVMeanCellIntensitiesOver1~10NumberOfClusters+1)': 0.20761432821250042, 'AvgOfWeightedAvgFractionOfFirstPCMeanCellIntensitiesOver1~10NumberOfClusters': 0.49480035538514294, 'AvgSilhouetteOver2~10NumberOfClusters': 0.149444447523603}, 'Cell Not Including Nucleus (cell membrane plus cytoplasm)': {'1/(AvgOfWeightedAvgCVMeanCellIntensitiesOver1~10NumberOfClusters+1)': 0.20368049387013618, 'AvgOfWeightedAvgFractionOfFirstPCMeanCellIntensitiesOver1~10NumberOfClusters': 0.5187190634287074, 'AvgSilhouetteOver2~10NumberOfClusters': 0.30517771814585104}, 'QualityScore': 1.880459506752857}\n"
     ]
    }
   ],
   "source": [
    "# illustration for a 2D image \n",
    "img_path = Path('./example_data/imgs/2D_CODEX.ome.tiff')\n",
    "mask_path = Path('./example_data/masks/2D_CODEX.ome.tiff')\n",
    "output_directory = Path('results')\n",
    "if not output_directory.exists():\n",
    "    output_directory.mkdir()\n",
    "# two choices: give empty model in which case read_and_eval_seg will use the default 2D model\n",
    "PCA_model = []\n",
    "# or give a specific model\n",
    "#PCA_model = pickle.load( open( \"2D_PCA_model.pickle\", \"rb\" ))\n",
    "\n",
    "seg_metrics_2D = read_and_eval_seg(img_path, mask_path, PCA_model, output_directory)\n",
    "\n",
    "print(seg_metrics_2D)"
   ]
  },
  {
   "cell_type": "code",
   "execution_count": null,
   "metadata": {},
   "outputs": [
    {
     "name": "stdout",
     "output_type": "stream",
     "text": [
      "Calculating evaluation metrics v1.6 for 3D_IMC.ome.tiff\n",
      "Using sum of all channels for segmenting image foreground from background\n",
      "PhysicalPixelSizes(Z=2.0, Y=1.0, X=1.0)\n",
      "Assuming OME pixel sizes are in microns...\n",
      "CSE3D v1.5\n",
      "Image dimensions (38, 50, 514, 452)\n",
      "Mask dimensions (3, 50, 514, 452)\n",
      "Voxel size is  2.0  cubic micrometers\n",
      "Using foreground identification disk filters of sizes  (1, 2, 10, 3)\n",
      "Using foreground identification area filters of sizes  (10000.0, 500.0)\n"
     ]
    }
   ],
   "source": [
    "img_path = Path('example_data/imgs/3D_IMC.ome.tiff')\n",
    "mask_path = Path('example_data/masks/3D_IMC.ome.tiff')\n",
    "output_directory = Path('results')\n",
    "if not output_directory.exists():\n",
    "    output_directory.mkdir()\n",
    "# two choices: give empty model in which case read_and_eval_seg will use the default 3D model\n",
    "PCA_model = []\n",
    "# or give a specific model\n",
    "# PCA_model = pickle.load( open( \"3D_PCA_model.pickle\", \"rb\" ))\n",
    "\n",
    "seg_metrics_3D = read_and_eval_seg(img_path, mask_path, PCA_model, output_directory)\n",
    "\n",
    "print(seg_metrics_3D)"
   ]
  },
  {
   "cell_type": "code",
   "execution_count": null,
   "metadata": {},
   "outputs": [],
   "source": []
  }
 ],
 "metadata": {
  "kernelspec": {
   "display_name": "Python 3 (ipykernel)",
   "language": "python",
   "name": "python3"
  },
  "language_info": {
   "codemirror_mode": {
    "name": "ipython",
    "version": 3
   },
   "file_extension": ".py",
   "mimetype": "text/x-python",
   "name": "python",
   "nbconvert_exporter": "python",
   "pygments_lexer": "ipython3",
   "version": "3.9.13"
  }
 },
 "nbformat": 4,
 "nbformat_minor": 4
}
