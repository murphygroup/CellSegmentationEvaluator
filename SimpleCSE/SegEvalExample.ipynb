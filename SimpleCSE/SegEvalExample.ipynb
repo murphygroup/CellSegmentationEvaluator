{
 "cells": [
  {
   "cell_type": "markdown",
   "metadata": {},
   "source": [
    "## EXAMPLE MAIN PROGRAM TO CALCULATE SEGMENTATION EVALUATION STATISTICS FOR A SINGLE IMAGE AND MASK\n",
    "## Authors: Haoran Chen and Robert F. Murphy and Ted Zhang\n",
    "## this assumes that the required python packages have already been installed using\n",
    "### pip install -r requirements.txt"
   ]
  },
  {
   "cell_type": "code",
   "execution_count": 1,
   "metadata": {},
   "outputs": [],
   "source": [
    "from pathlib import Path\n",
    "import pickle\n",
    "from read_and_eval_seg import read_and_eval_seg"
   ]
  },
  {
   "cell_type": "code",
   "execution_count": 3,
   "metadata": {},
   "outputs": [
    {
     "name": "stdout",
     "output_type": "stream",
     "text": [
      "CellSegmentationEvaluator (SimpleCSE) v1.5.12\n",
      "Calculating evaluation metrics v1.5 for 2D_CODEX.ome.tiff\n",
      "1704 cells repaired out of 2657\n"
     ]
    },
    {
     "name": "stderr",
     "output_type": "stream",
     "text": [
      "30-Mar-25 11:30:07 - pint.util - WARNING  - Calling the getitem method from a UnitRegistry is deprecated. use `parse_expression` method or use the registry as a callable.\n"
     ]
    },
    {
     "name": "stdout",
     "output_type": "stream",
     "text": [
      "Assuming OME pixel sizes are in microns...\n",
      "{'Matched Cell': {'NumberOfCellsPer100SquareMicrons': 1.3776182999409543, 'FractionOfForegroundOccupiedByCells': 0.9160630053908356, '1-FractionOfBackgroundOccupiedByCells': 1, 'FractionOfCellMaskInForeground': 1.0, '1/(ln(StandardDeviationOfCellSize)+1)': 0.16336128718458506, 'FractionOfMatchedCellsAndNuclei': 1.0, '1/(AvgCVForegroundOutsideCells+1)': 0.10351006628637523, 'FractionOfFirstPCForegroundOutsideCells': 0.6784067039776351}, 'Nucleus (including nuclear membrane)': {'1/(AvgOfWeightedAvgCVMeanCellIntensitiesOver1~10NumberOfClusters+1)': 0.20240520395638273, 'AvgOfWeightedAvgFractionOfFirstPCMeanCellIntensitiesOver1~10NumberOfClusters': 0.4948003553851429, 'AvgSilhouetteOver2~10NumberOfClusters': 0.149444447523603}, 'Cell Not Including Nucleus (cell membrane plus cytoplasm)': {'1/(AvgOfWeightedAvgCVMeanCellIntensitiesOver1~10NumberOfClusters+1)': 0.20148681614827335, 'AvgOfWeightedAvgFractionOfFirstPCMeanCellIntensitiesOver1~10NumberOfClusters': 0.5187190634287074, 'AvgSilhouetteOver2~10NumberOfClusters': 0.30517771814585104}, 'QualityScore': 1.7467165002734093}\n"
     ]
    }
   ],
   "source": [
    "# illustration for a 2D image \n",
    "img_path = Path('./example_data/imgs/2D_CODEX.ome.tiff')\n",
    "mask_path = Path('./example_data/masks/2D_CODEX.ome.tiff')\n",
    "output_directory = Path('results')\n",
    "if not output_directory.exists():\n",
    "    output_directory.mkdir()\n",
    "# two choices: give empty model in which case read_and_eval_seg will use the default 2D model\n",
    "PCA_model = []\n",
    "# or give a specific model\n",
    "#PCA_model = pickle.load( open( \"2D_PCA_model.pickle\", \"rb\" ))\n",
    "\n",
    "seg_metrics_2D = read_and_eval_seg(img_path, mask_path, PCA_model, output_directory)\n",
    "\n",
    "print(seg_metrics_2D)"
   ]
  },
  {
   "cell_type": "code",
   "execution_count": 5,
   "metadata": {},
   "outputs": [
    {
     "name": "stdout",
     "output_type": "stream",
     "text": [
      "Calculating evaluation metrics v1.6 for 3D_IMC.ome.tiff\n",
      "[<Quantity(1000, 'nanometer')>, <Quantity(1000, 'nanometer')>, <Quantity(2000, 'nanometer')>]\n",
      "{'Matched Cell': {'NumberOfCellsPer100CubicMicrons': 0.09183568058951136, 'FractionOfForegroundOccupiedByCells': 0.582823141640616, '1-FractionOfBackgroundOccupiedByCells': 0.8171408955488162, 'FractionOfCellMaskInForeground': 0.9652014427859826, '1/(CVOfCellSize+1)': 0.7173306442825295, 'WeightedAvgCellSizeinCubicMicrons': 681.3255317265257, '1/(AvgCVForegroundOutsideCells+1)': 0.3132533093604995, 'FractionOfFirstPCForegroundOutsideCells': 0.174736508812289}, 'Nucleus (including nuclear membrane)': {'1/(AvgOfWeightedAvgCVMeanCellIntensitiesOver1~10NumberOfClusters+1)': 0.5009509798894507, 'AvgOfWeightedAvgFractionOfFirstPCMeanCellIntensitiesOver1~10NumberOfClusters': 0.19535199942277992, 'AvgSilhouetteOver1~10NumberOfClusters': 0.0456268620972059}, 'Cell Not Including Nucleus (cell membrane plus cytoplasm)': {'1/(AvgOfWeightedAvgCVMeanCellIntensitiesOver1~10NumberOfClusters+1)': 0.5555357682043812, 'AvgOfWeightedAvgFractionOfFirstPCMeanCellIntensitiesOver1~10NumberOfClusters': 0.1849088726734793, 'AvgSilhouetteOver1~10NumberOfClusters': 0.09947676342086245}}\n",
      "{'Matched Cell': {'NumberOfCellsPer100CubicMicrons': 0.09183568058951136, 'FractionOfForegroundOccupiedByCells': 0.582823141640616, '1-FractionOfBackgroundOccupiedByCells': 0.8171408955488162, 'FractionOfCellMaskInForeground': 0.9652014427859826, '1/(CVOfCellSize+1)': 0.7173306442825295, 'WeightedAvgCellSizeinCubicMicrons': 681.3255317265257, '1/(AvgCVForegroundOutsideCells+1)': 0.3132533093604995, 'FractionOfFirstPCForegroundOutsideCells': 0.174736508812289}, 'Nucleus (including nuclear membrane)': {'1/(AvgOfWeightedAvgCVMeanCellIntensitiesOver1~10NumberOfClusters+1)': 0.5009509798894507, 'AvgOfWeightedAvgFractionOfFirstPCMeanCellIntensitiesOver1~10NumberOfClusters': 0.19535199942277992, 'AvgSilhouetteOver1~10NumberOfClusters': 0.0456268620972059}, 'Cell Not Including Nucleus (cell membrane plus cytoplasm)': {'1/(AvgOfWeightedAvgCVMeanCellIntensitiesOver1~10NumberOfClusters+1)': 0.5555357682043812, 'AvgOfWeightedAvgFractionOfFirstPCMeanCellIntensitiesOver1~10NumberOfClusters': 0.1849088726734793, 'AvgSilhouetteOver1~10NumberOfClusters': 0.09947676342086245}, 'QualityScore': 78.5683168775134}\n"
     ]
    }
   ],
   "source": [
    "img_path = Path('example_data/imgs/3D_IMC.ome.tiff')\n",
    "mask_path = Path('example_data/masks/3D_IMC.ome.tiff')\n",
    "output_directory = Path('results')\n",
    "if not output_directory.exists():\n",
    "    output_directory.mkdir()\n",
    "# two choices: give empty model in which case read_and_eval_seg will use the default 3D model\n",
    "PCA_model = []\n",
    "# or give a specific model\n",
    "# PCA_model = pickle.load( open( \"3D_PCA_model.pickle\", \"rb\" ))\n",
    "\n",
    "seg_metrics_3D = read_and_eval_seg(img_path, mask_path, PCA_model, output_directory)\n",
    "\n",
    "print(seg_metrics_3D)"
   ]
  },
  {
   "cell_type": "code",
   "execution_count": 5,
   "metadata": {},
   "outputs": [],
   "source": []
  }
 ],
 "metadata": {
  "kernelspec": {
   "display_name": "Python 3 (ipykernel)",
   "language": "python",
   "name": "python3"
  },
  "language_info": {
   "codemirror_mode": {
    "name": "ipython",
    "version": 3
   },
   "file_extension": ".py",
   "mimetype": "text/x-python",
   "name": "python",
   "nbconvert_exporter": "python",
   "pygments_lexer": "ipython3",
   "version": "3.9.13"
  }
 },
 "nbformat": 4,
 "nbformat_minor": 4
}
